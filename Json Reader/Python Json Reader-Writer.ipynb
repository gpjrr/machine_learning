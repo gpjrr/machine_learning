{
 "cells": [
  {
   "cell_type": "markdown",
   "id": "0ee8945d",
   "metadata": {},
   "source": [
    "#Python to Json#"
   ]
  },
  {
   "cell_type": "code",
   "execution_count": 12,
   "id": "189a1e5c",
   "metadata": {},
   "outputs": [
    {
     "name": "stdout",
     "output_type": "stream",
     "text": [
      "hay 3 archivos de muestra, los vamos a extraer y al final mostraremos los 3 diccionarios\n",
      "C:\\Users\\Familia Romero Ramos\\notebooks jupyter\\Json Reader\\sample1.json\n",
      "C:\\Users\\Familia Romero Ramos\\notebooks jupyter\\Json Reader\\sample2.json\n",
      "C:\\Users\\Familia Romero Ramos\\notebooks jupyter\\Json Reader\\sample3.json\n",
      "el diccionario que vamos a convertir es {'Nomnre': 'Kwid', 'Marca': 'honda', 'Cilindros': 3, 'año': 2021, 'rendimiento': 24, 'Velocidad': 140}\n",
      "Vamos a Extraer el Json\n",
      "dicionario # 1\n",
      "{'fruit': 'Apple', 'size': 'Large', 'color': 'Red'} \n",
      "\n",
      "dicionario # 2\n",
      "{'firstName': 'Joe', 'lastName': 'Jackson', 'gender': 'male', 'age': 28, 'address': {'streetAddress': '101', 'city': 'San Diego', 'state': 'CA'}, 'phoneNumbers': [{'type': 'home', 'number': '7349282382'}]} \n",
      "\n",
      "dicionario # 3\n",
      "{'people': [{'firstName': 'Joe', 'lastName': 'Jackson', 'gender': 'male', 'age': 28, 'number': '7349282382'}, {'firstName': 'James', 'lastName': 'Smith', 'gender': 'male', 'age': 32, 'number': '5678568567'}, {'firstName': 'Emily', 'lastName': 'Jones', 'gender': 'female', 'age': 24, 'number': '456754675'}]} \n",
      "\n",
      "dicionario # 4\n",
      "{'Coche': 'Kwid', 'Marca': 'honda', 'Cilindros': 3, 'año': 2021, 'rendimiento': 24, 'Velocidad': 140} \n",
      "\n"
     ]
    }
   ],
   "source": [
    "import json\n",
    "from io import open \n",
    "import copy\n",
    "\n",
    "def ConvertToDic(ubicacion):\n",
    "    f=open(fr\"{ubicacion}\",)\n",
    "    dicc=json.load(f)\n",
    "    return dicc\n",
    "\n",
    "name=\"C:\\\\Users\\\\Familia Romero Ramos\\\\notebooks jupyter\\\\Json Reader\\\\sample\";\n",
    "print(\"hay 3 archivos de muestra, los vamos a extraer y al final mostraremos los 3 diccionarios\")\n",
    "dictlist = [dict() for x in range(6)]\n",
    "for i in range(1,4):\n",
    "    tem=copy.deepcopy(name)\n",
    "    tem+=str(i)+\".json\"\n",
    "    print(tem)\n",
    "    dictlist[i]=ConvertToDic(tem)\n",
    "    \n",
    "##for i in range(1,4):\n",
    "##    print(\"dicionario #\",i)\n",
    "##    print( dictlist[i],\"\\n\")\n",
    "    \n",
    "Coche={\n",
    "    \"Nomnre\" : \"Kwid\",\n",
    "    \"Marca\" : \"honda\",\n",
    "    \"Cilindros\" : 3,\n",
    "    \"año\" : 2021,\n",
    "    \"rendimiento\": 24,\n",
    "    \"Velocidad\": 140,\n",
    "}    \n",
    "Alumno={\n",
    "    \"Nombre\":\"Erwin\",\n",
    "    \"Apellido\":\"Romero\",\n",
    "    \"Edad\":20,\n",
    "    \"Matricula\":201831425,\n",
    "    \"Semestre\":7,\n",
    "    \"Promedio\":8.7,\n",
    "    \"Inscrito\":True,\n",
    "}\n",
    "print(\"el diccionario que vamos a convertir es\",Coche)\n",
    "with open(\"Alumno3.json\", \"w\") as outfile:\n",
    "    json.dump(Alumno, outfile)\n",
    "print(\"Vamos a Extraer el Json\")\n",
    "ubic=\"C:\\\\Users\\\\Familia Romero Ramos\\\\notebooks jupyter\\\\Json Reader\\\\AutoDicc.json\"\n",
    "dictlist[4]=ConvertToDic(ubic);\n",
    "for i in range(1,5):\n",
    "    print(\"dicionario #\",i)\n",
    "    print( dictlist[i],\"\\n\")\n",
    "\n",
    "    "
   ]
  },
  {
   "cell_type": "code",
   "execution_count": 13,
   "id": "c9bda812",
   "metadata": {},
   "outputs": [
    {
     "name": "stdout",
     "output_type": "stream",
     "text": [
      "Vamos a leer los archivos Json y mostrarlos como diccionarios\n",
      "C:\\Users\\Familia Romero Ramos\\notebooks jupyter\\Json Reader\\Alumno1.json\n",
      "C:\\Users\\Familia Romero Ramos\\notebooks jupyter\\Json Reader\\Alumno2.json\n",
      "C:\\Users\\Familia Romero Ramos\\notebooks jupyter\\Json Reader\\Alumno3.json\n",
      "Alumno # 1\n",
      "{'Nombre': 'Erwin', 'Apellido': 'Romero', 'Edad': 20, 'Matricula': 201831425, 'Semestre': 7, 'Promedio': 8.7, 'Inscrito': True}\n",
      "Alumno # 2\n",
      "{'Nombre': 'Carlos', 'Apellido': 'Gastelum', 'Edad': 22, 'Matricula': 201834883, 'Semestre': 8, 'Promedio': 9, 'Inscrito': False}\n",
      "Alumno # 3\n",
      "{'Nomnre': 'Kwid', 'Marca': 'honda', 'Cilindros': 3, 'año': 2021, 'rendimiento': 24, 'Velocidad': 140}\n"
     ]
    }
   ],
   "source": [
    "import json\n",
    "from io import open \n",
    "import copy\n",
    "\n",
    "def ConvertToDic(ubicacion):\n",
    "    f=open(fr\"{ubicacion}\",)\n",
    "    dicc=json.load(f)\n",
    "    return dicc\n",
    "name=\"C:\\\\Users\\\\Familia Romero Ramos\\\\notebooks jupyter\\\\Json Reader\\\\Alumno\";\n",
    "print(\"Vamos a leer los archivos Json y mostrarlos como diccionarios\")\n",
    "dictlist = [dict() for x in range(6)]\n",
    "for i in range(1,4):\n",
    "    tem=copy.deepcopy(name)\n",
    "    tem+=str(i)+\".json\"\n",
    "    print(tem)\n",
    "    dictlist[i]=ConvertToDic(tem)\n",
    "for i in range(1,4):\n",
    "    print(\"Alumno #\",i)\n",
    "    print(dictlist[i])\n"
   ]
  },
  {
   "cell_type": "code",
   "execution_count": 16,
   "id": "3a354944",
   "metadata": {},
   "outputs": [
    {
     "name": "stdout",
     "output_type": "stream",
     "text": [
      "vamos a Crear un Diccionario y lo convertiremos en File\n",
      "el diccionario que vamos a convertir es {'Nombre': 'Pedro', 'Apellido': 'Sanchez', 'Edad': 45, 'Matricula': 201898765, 'Semestre': 10, 'Promedio': 6.7, 'Inscrito': False}\n"
     ]
    }
   ],
   "source": [
    "import json\n",
    "from io import open \n",
    "import copy\n",
    "def ConvertToJson(Diccionario,Nombre):\n",
    "    with open(fr\"{Nombre}\", \"w\") as outfile:\n",
    "        json.dump(Diccionario, outfile)\n",
    "\n",
    "print(\"vamos a Crear un Diccionario y lo convertiremos en File\")\n",
    "Alumno={\n",
    "    \"Nombre\":\"Pedro\",\n",
    "    \"Apellido\":\"Sanchez\",\n",
    "    \"Edad\":45,\n",
    "    \"Matricula\":201898765,\n",
    "    \"Semestre\":10,\n",
    "    \"Promedio\":6.7,\n",
    "    \"Inscrito\":False,\n",
    "}\n",
    "print(\"el diccionario que vamos a convertir es\",Alumno)\n",
    "name=\"Alumno4.json\"\n",
    "ConvertToJson(Alumno,name)\n",
    "\n",
    "\n",
    "\n",
    "    "
   ]
  },
  {
   "cell_type": "code",
   "execution_count": null,
   "id": "acc1786c",
   "metadata": {},
   "outputs": [],
   "source": []
  }
 ],
 "metadata": {
  "kernelspec": {
   "display_name": "Python 3",
   "language": "python",
   "name": "python3"
  },
  "language_info": {
   "codemirror_mode": {
    "name": "ipython",
    "version": 3
   },
   "file_extension": ".py",
   "mimetype": "text/x-python",
   "name": "python",
   "nbconvert_exporter": "python",
   "pygments_lexer": "ipython3",
   "version": "3.8.8"
  }
 },
 "nbformat": 4,
 "nbformat_minor": 5
}
