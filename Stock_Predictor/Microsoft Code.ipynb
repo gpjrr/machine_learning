{
 "cells": [
  {
   "cell_type": "code",
   "execution_count": 1,
   "id": "0909dd76",
   "metadata": {},
   "outputs": [],
   "source": [
    "import pandas as pd\n",
    "micro=pd.read_csv('C:\\\\Users\\\\Familia Romero Ramos\\\\machine_learning\\\\Stock_Predictor\\\\Microsoft.csv')"
   ]
  },
  {
   "cell_type": "code",
   "execution_count": 2,
   "id": "1e127e3f",
   "metadata": {},
   "outputs": [
    {
     "name": "stdout",
     "output_type": "stream",
     "text": [
      "<class 'pandas.core.frame.DataFrame'>\n",
      "RangeIndex: 8953 entries, 0 to 8952\n",
      "Data columns (total 7 columns):\n",
      " #   Column     Non-Null Count  Dtype  \n",
      "---  ------     --------------  -----  \n",
      " 0   Date       8953 non-null   object \n",
      " 1   Open       8953 non-null   float64\n",
      " 2   High       8953 non-null   float64\n",
      " 3   Low        8953 non-null   float64\n",
      " 4   Close      8953 non-null   float64\n",
      " 5   Adj Close  8953 non-null   float64\n",
      " 6   Volume     8953 non-null   int64  \n",
      "dtypes: float64(5), int64(1), object(1)\n",
      "memory usage: 489.7+ KB\n"
     ]
    }
   ],
   "source": [
    "micro.info()"
   ]
  },
  {
   "cell_type": "code",
   "execution_count": 3,
   "id": "972d94dc",
   "metadata": {},
   "outputs": [
    {
     "data": {
      "text/plain": [
       "Date         0\n",
       "Open         0\n",
       "High         0\n",
       "Low          0\n",
       "Close        0\n",
       "Adj Close    0\n",
       "Volume       0\n",
       "dtype: int64"
      ]
     },
     "execution_count": 3,
     "metadata": {},
     "output_type": "execute_result"
    }
   ],
   "source": [
    "micro.isna().sum()\n",
    "##no hay ningun problema con la base"
   ]
  },
  {
   "cell_type": "code",
   "execution_count": 4,
   "id": "98acf5ce",
   "metadata": {},
   "outputs": [
    {
     "data": {
      "text/plain": [
       "0       1986-03-13\n",
       "1       1986-03-14\n",
       "2       1986-03-17\n",
       "3       1986-03-18\n",
       "4       1986-03-19\n",
       "           ...    \n",
       "8948    2021-09-13\n",
       "8949    2021-09-14\n",
       "8950    2021-09-15\n",
       "8951    2021-09-16\n",
       "8952    2021-09-17\n",
       "Name: Date, Length: 8953, dtype: object"
      ]
     },
     "execution_count": 4,
     "metadata": {},
     "output_type": "execute_result"
    }
   ],
   "source": [
    "micro[\"Date\"]"
   ]
  },
  {
   "cell_type": "code",
   "execution_count": 5,
   "id": "2d7e3a31",
   "metadata": {},
   "outputs": [
    {
     "name": "stdout",
     "output_type": "stream",
     "text": [
      "2010-01-01 00:00:00 --\n",
      "2010-01-18 00:00:00 --\n",
      "2010-02-15 00:00:00 --\n",
      "2010-04-02 00:00:00 --\n",
      "2010-05-31 00:00:00 --\n",
      "2010-07-05 00:00:00 --\n",
      "2010-09-06 00:00:00 --\n",
      "2010-11-25 00:00:00 --\n",
      "2010-12-24 00:00:00 --\n",
      "309 len= 8953\n"
     ]
    }
   ],
   "source": [
    "import datetime\n",
    "micro[\"Date\"].head(15) ###jueves\n",
    "micro[\"DateGood\"]=pd.to_datetime(micro[\"Date\"])\n",
    "con=pd.to_datetime(micro[\"Date\"][0]);\n",
    "error=0\n",
    "\n",
    "for dia in micro[\"DateGood\"]:\n",
    "    ##print(con,\"<-->\",dia)\n",
    "    ##print(con.isocalendar()[2],\"<-->\",dia.isocalendar()[2])\n",
    "    if con.day!=dia.day or con.month!=dia.month or con.year!=dia.year:\n",
    "        error+=1\n",
    "        if con.year==2010:\n",
    "            print(con,\"--\")\n",
    "        con=dia\n",
    "        \n",
    "    con+=datetime.timedelta(days=1)\n",
    "    if con.isocalendar()[2]==6:\n",
    "        con+=datetime.timedelta(days=2)\n",
    "    ##print(con,\"_  _\",dia)\n",
    "print(error,\"len=\",len(micro[\"DateGood\"]))\n"
   ]
  }
 ],
 "metadata": {
  "kernelspec": {
   "display_name": "Python 3 (ipykernel)",
   "language": "python",
   "name": "python3"
  },
  "language_info": {
   "codemirror_mode": {
    "name": "ipython",
    "version": 3
   },
   "file_extension": ".py",
   "mimetype": "text/x-python",
   "name": "python",
   "nbconvert_exporter": "python",
   "pygments_lexer": "ipython3",
   "version": "3.8.11"
  }
 },
 "nbformat": 4,
 "nbformat_minor": 5
}
