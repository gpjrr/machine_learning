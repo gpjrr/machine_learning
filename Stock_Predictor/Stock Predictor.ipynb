{
 "cells": [
  {
   "cell_type": "markdown",
   "id": "bc0e2161",
   "metadata": {},
   "source": [
    "# Stock Predictor #"
   ]
  },
  {
   "cell_type": "markdown",
   "id": "0390e8b9",
   "metadata": {},
   "source": [
    "## 1) Big Picture  ##"
   ]
  },
  {
   "cell_type": "markdown",
   "id": "accd9547",
   "metadata": {},
   "source": [
    "### How it works ###\n",
    "#### Objective ####\n",
    "The project is going to use a database to build and train a model, for an analysis of the behavior, the model it is going to compare the values of the prediction with the last values of the database. \n",
    "#### Input ####\n",
    "The input is database prices stock of a company, from the last years.(cuantos son exactamente)\n",
    "#### Output ####\n",
    "The output is the prediction of the stock prices for the next 15 days.\n",
    "\n"
   ]
  },
  {
   "cell_type": "markdown",
   "id": "7e241f16",
   "metadata": {},
   "source": [
    "### Database ###\n",
    "definir una base de datos\n",
    "for the purpose of this proyect the database will be a collection of stocks, \n",
    "### Definition of stock ###\n",
    "First Lets define a **stock**, A stock it's the secure way to represent the fraction of a corporation, meaning that, if someone buy a stock they are owners of a porcentage of that corporation.\n",
    "The value of the stock changes through the day, due to many facts(\"ejemplos de fACTORES\"). In some cases people take advantage of it, buying cheap stocks and then to selling it to a higher price.\n",
    "\n",
    "We are going to redefine a stock for the model.\n",
    "the new definition of stock in the model will be a group of many variables, this\n",
    "variables will be the same for any stock in the database, but the values can be \n",
    "different.\n",
    "### Varibles ###\n",
    "+ #### Date ####\n",
    "The date of the stock information.\n",
    "+ #### Open ####\n",
    "The stock price at the begin of the day.\n",
    "+ #### Close ####\n",
    "The stock price to the end of the day.\n",
    "+ #### Higher ####\n",
    "The higher price of the stock during the day.\n",
    "+ #### Lower ####\n",
    "The lower price of the stock during the day.\n",
    "+ #### Adj Close ####\n",
    "The closing price is the raw price, which is just the cash value of the last transacted price before the market closes.\n",
    "+ #### Volume ####\n",
    "the amount of an asset or security that changes hands over some period of time, often over the course of a day."
   ]
  },
  {
   "cell_type": "markdown",
   "id": "5917eccb",
   "metadata": {},
   "source": [
    "### Performance mesaure ###\n",
    "The model is kind of a linear regression, so  \n",
    "$$ \n",
    "RMSD=\\sqrt{ \\frac{ \\sum_{t=1}^{T} (\\hat{y_{t}}-y_{t} )^2 }{T}\\ } \n",
    " $$"
   ]
  },
  {
   "cell_type": "code",
   "execution_count": 1,
   "id": "5ae466f1",
   "metadata": {},
   "outputs": [
    {
     "name": "stdout",
     "output_type": "stream",
     "text": [
      "             Date        Open        High         Low       Close   Adj Close  \\\n",
      "0      1980-12-12    0.128348    0.128906    0.128348    0.128348    0.100600   \n",
      "1      1980-12-15    0.122210    0.122210    0.121652    0.121652    0.095352   \n",
      "2      1980-12-16    0.113281    0.113281    0.112723    0.112723    0.088353   \n",
      "3      1980-12-17    0.115513    0.116071    0.115513    0.115513    0.090540   \n",
      "4      1980-12-18    0.118862    0.119420    0.118862    0.118862    0.093165   \n",
      "...           ...         ...         ...         ...         ...         ...   \n",
      "10280  2021-09-21  143.929993  144.600006  142.779999  143.429993  143.429993   \n",
      "10281  2021-09-22  144.449997  146.429993  143.699997  145.850006  145.850006   \n",
      "10282  2021-09-23  146.649994  147.080002  145.639999  146.830002  146.830002   \n",
      "10283  2021-09-24  145.660004  147.470001  145.559998  146.919998  146.919998   \n",
      "10284  2021-09-27  145.470001  145.960007  143.820007  145.369995  145.369995   \n",
      "\n",
      "          Volume  \n",
      "0      469033600  \n",
      "1      175884800  \n",
      "2      105728000  \n",
      "3       86441600  \n",
      "4       73449600  \n",
      "...          ...  \n",
      "10280   75834000  \n",
      "10281   76404300  \n",
      "10282   64838200  \n",
      "10283   53434200  \n",
      "10284   74031500  \n",
      "\n",
      "[10285 rows x 7 columns]\n"
     ]
    }
   ],
   "source": [
    "import pandas as pd\n",
    "##gogle\n",
    "##micro\n",
    "apple = pd.read_csv('C:\\\\Users\\\\Familia Romero Ramos\\\\machine_learning\\\\Stock_Predictor\\\\Apple.csv')\n",
    "print(apple)"
   ]
  },
  {
   "cell_type": "code",
   "execution_count": null,
   "id": "b9d95017",
   "metadata": {},
   "outputs": [],
   "source": []
  }
 ],
 "metadata": {
  "kernelspec": {
   "display_name": "Python 3 (ipykernel)",
   "language": "python",
   "name": "python3"
  },
  "language_info": {
   "codemirror_mode": {
    "name": "ipython",
    "version": 3
   },
   "file_extension": ".py",
   "mimetype": "text/x-python",
   "name": "python",
   "nbconvert_exporter": "python",
   "pygments_lexer": "ipython3",
   "version": "3.8.11"
  }
 },
 "nbformat": 4,
 "nbformat_minor": 5
}
