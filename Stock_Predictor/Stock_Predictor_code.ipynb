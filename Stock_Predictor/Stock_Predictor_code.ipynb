{
 "cells": [
  {
   "cell_type": "code",
   "execution_count": 1,
   "id": "874f7904",
   "metadata": {},
   "outputs": [],
   "source": [
    "import pandas as pd\n",
    "gogle = pd.read_csv('C:\\\\Users\\\\Familia Romero Ramos\\\\machine_learning\\\\Stock_Predictor\\\\Google.csv')\n",
    "micro=pd.read_csv('C:\\\\Users\\\\Familia Romero Ramos\\\\machine_learning\\\\Stock_Predictor\\\\Microsoft.csv')\n",
    "apple = pd.read_csv('C:\\\\Users\\\\Familia Romero Ramos\\\\machine_learning\\\\Stock_Predictor\\\\Apple.csv')"
   ]
  },
  {
   "cell_type": "code",
   "execution_count": 2,
   "id": "6c93e0c2",
   "metadata": {
    "scrolled": true
   },
   "outputs": [
    {
     "name": "stdout",
     "output_type": "stream",
     "text": [
      "<class 'pandas.core.frame.DataFrame'>\n",
      "RangeIndex: 4311 entries, 0 to 4310\n",
      "Data columns (total 7 columns):\n",
      " #   Column     Non-Null Count  Dtype  \n",
      "---  ------     --------------  -----  \n",
      " 0   Date       4311 non-null   object \n",
      " 1   Open       4311 non-null   float64\n",
      " 2   High       4311 non-null   float64\n",
      " 3   Low        4311 non-null   float64\n",
      " 4   Close      4311 non-null   float64\n",
      " 5   Adj Close  4311 non-null   float64\n",
      " 6   Volume     4311 non-null   int64  \n",
      "dtypes: float64(5), int64(1), object(1)\n",
      "memory usage: 235.9+ KB\n"
     ]
    }
   ],
   "source": [
    "gogle.info()"
   ]
  },
  {
   "cell_type": "code",
   "execution_count": 3,
   "id": "feefee69",
   "metadata": {},
   "outputs": [
    {
     "data": {
      "text/plain": [
       "Date         0\n",
       "Open         0\n",
       "High         0\n",
       "Low          0\n",
       "Close        0\n",
       "Adj Close    0\n",
       "Volume       0\n",
       "dtype: int64"
      ]
     },
     "execution_count": 3,
     "metadata": {},
     "output_type": "execute_result"
    }
   ],
   "source": [
    "#contar el total de nulos  google\n",
    "gogle.isna().sum()"
   ]
  },
  {
   "cell_type": "code",
   "execution_count": 4,
   "id": "0308cb8f",
   "metadata": {
    "scrolled": true
   },
   "outputs": [
    {
     "data": {
      "text/plain": [
       "Date         0\n",
       "Open         0\n",
       "High         0\n",
       "Low          0\n",
       "Close        0\n",
       "Adj Close    0\n",
       "Volume       0\n",
       "dtype: int64"
      ]
     },
     "execution_count": 4,
     "metadata": {},
     "output_type": "execute_result"
    }
   ],
   "source": [
    "#contar el total de nulos  Microsoft\n",
    "micro.isna().sum()"
   ]
  },
  {
   "cell_type": "code",
   "execution_count": 5,
   "id": "5ea562b3",
   "metadata": {},
   "outputs": [
    {
     "data": {
      "text/plain": [
       "Date         0\n",
       "Open         0\n",
       "High         0\n",
       "Low          0\n",
       "Close        0\n",
       "Adj Close    0\n",
       "Volume       0\n",
       "dtype: int64"
      ]
     },
     "execution_count": 5,
     "metadata": {},
     "output_type": "execute_result"
    }
   ],
   "source": [
    "#contar el total de nulos  Apple\n",
    "apple.isna().sum()"
   ]
  },
  {
   "cell_type": "code",
   "execution_count": 6,
   "id": "f149b9f2",
   "metadata": {},
   "outputs": [
    {
     "data": {
      "text/plain": [
       "0       2004-08-19\n",
       "1       2004-08-20\n",
       "2       2004-08-23\n",
       "3       2004-08-24\n",
       "4       2004-08-25\n",
       "           ...    \n",
       "4306    2021-09-27\n",
       "4307    2021-09-28\n",
       "4308    2021-09-29\n",
       "4309    2021-09-30\n",
       "4310    2021-10-01\n",
       "Name: Date, Length: 4311, dtype: object"
      ]
     },
     "execution_count": 6,
     "metadata": {},
     "output_type": "execute_result"
    }
   ],
   "source": [
    "gogle[\"Date\"]"
   ]
  },
  {
   "cell_type": "code",
   "execution_count": 15,
   "id": "60f89052",
   "metadata": {},
   "outputs": [
    {
     "name": "stdout",
     "output_type": "stream",
     "text": [
      "2010-01-01 00:00:00 --\n",
      "2010-01-18 00:00:00 --\n",
      "2010-02-15 00:00:00 --\n",
      "2010-04-02 00:00:00 --\n",
      "2010-05-31 00:00:00 --\n",
      "2010-07-05 00:00:00 --\n",
      "2010-09-06 00:00:00 --\n",
      "2010-11-25 00:00:00 --\n",
      "2010-12-24 00:00:00 --\n",
      "154 len= 4311\n"
     ]
    }
   ],
   "source": [
    "import datetime\n",
    "gogle[\"Date\"].head(15) ###jueves\n",
    "gogle[\"DateGood\"]=pd.to_datetime(gogle[\"Date\"])\n",
    "con=pd.to_datetime(gogle[\"Date\"][0]);\n",
    "error=0\n",
    "\n",
    "for dia in gogle[\"DateGood\"]:\n",
    "    ##print(con,\"<-->\",dia)\n",
    "    ##print(con.isocalendar()[2],\"<-->\",dia.isocalendar()[2])\n",
    "    if con.day!=dia.day or con.month!=dia.month or con.year!=dia.year:\n",
    "        error+=1\n",
    "        if con.year==2010:\n",
    "            print(con,\"--\")\n",
    "        con=dia\n",
    "        \n",
    "    con+=datetime.timedelta(days=1)\n",
    "    if con.isocalendar()[2]==6:\n",
    "        con+=datetime.timedelta(days=2)\n",
    "    ##print(con,\"_  _\",dia)\n",
    "print(error,\"len=\",len(gogle[\"DateGood\"]))\n",
    "\n"
   ]
  },
  {
   "cell_type": "code",
   "execution_count": 8,
   "id": "86b9ffe3",
   "metadata": {},
   "outputs": [],
   "source": [
    "##gogle.info()\n",
    "##for dia in gogle[\"DateGood\"]:\n",
    "  ##  print(dia.isocalendar())"
   ]
  },
  {
   "cell_type": "code",
   "execution_count": 9,
   "id": "1d43cc03",
   "metadata": {},
   "outputs": [
    {
     "name": "stdout",
     "output_type": "stream",
     "text": [
      "352 len= 10285\n"
     ]
    }
   ],
   "source": [
    "import datetime\n",
    "apple[\"Date\"].head(15) ###jueves\n",
    "apple[\"DateGood\"]=pd.to_datetime(apple[\"Date\"])\n",
    "con=pd.to_datetime(apple[\"Date\"][0]);\n",
    "error=0\n",
    "\n",
    "for dia in apple[\"DateGood\"]:\n",
    "    ##print(con,\"<-->\",dia)\n",
    "    ##print(con.isocalendar()[2],\"<-->\",dia.isocalendar()[2])\n",
    "    if con.day!=dia.day or con.month!=dia.month or con.year!=dia.year:\n",
    "        error+=1\n",
    "        con=dia\n",
    "    con+=datetime.timedelta(days=1)\n",
    "    if con.isocalendar()[2]==6:\n",
    "        con+=datetime.timedelta(days=2)\n",
    "    ##print(con,\"_  _\",dia)\n",
    "print(error,\"len=\",len(apple[\"DateGood\"]))\n",
    "\n"
   ]
  },
  {
   "cell_type": "code",
   "execution_count": 10,
   "id": "f63a77f6",
   "metadata": {},
   "outputs": [
    {
     "data": {
      "text/plain": [
       "0     1980-12-12\n",
       "1     1980-12-15\n",
       "2     1980-12-16\n",
       "3     1980-12-17\n",
       "4     1980-12-18\n",
       "5     1980-12-19\n",
       "6     1980-12-22\n",
       "7     1980-12-23\n",
       "8     1980-12-24\n",
       "9     1980-12-26\n",
       "10    1980-12-29\n",
       "11    1980-12-30\n",
       "12    1980-12-31\n",
       "13    1981-01-02\n",
       "14    1981-01-05\n",
       "Name: Date, dtype: object"
      ]
     },
     "execution_count": 10,
     "metadata": {},
     "output_type": "execute_result"
    }
   ],
   "source": [
    "apple[\"Date\"].head(15) ##viernes"
   ]
  },
  {
   "cell_type": "code",
   "execution_count": 11,
   "id": "72dd76e8",
   "metadata": {},
   "outputs": [
    {
     "name": "stdout",
     "output_type": "stream",
     "text": [
      "309 len= 8953\n"
     ]
    }
   ],
   "source": [
    "import datetime\n",
    "micro[\"Date\"].head(15) ###jueves\n",
    "micro[\"DateGood\"]=pd.to_datetime(micro[\"Date\"])\n",
    "con=pd.to_datetime(micro[\"Date\"][0]);\n",
    "error=0\n",
    "\n",
    "for dia in micro[\"DateGood\"]:\n",
    "    ##print(con,\"<-->\",dia)\n",
    "    ##print(con.isocalendar()[2],\"<-->\",dia.isocalendar()[2])\n",
    "    if con.day!=dia.day or con.month!=dia.month or con.year!=dia.year:\n",
    "        error+=1\n",
    "        con=dia\n",
    "    con+=datetime.timedelta(days=1)\n",
    "    if con.isocalendar()[2]==6:\n",
    "        con+=datetime.timedelta(days=2)\n",
    "    ##print(con,\"_  _\",dia)\n",
    "print(error,\"len=\",len(micro[\"DateGood\"]))"
   ]
  },
  {
   "cell_type": "code",
   "execution_count": 12,
   "id": "e3efb995",
   "metadata": {},
   "outputs": [
    {
     "data": {
      "text/plain": [
       "0    1986-03-13\n",
       "1    1986-03-14\n",
       "2    1986-03-17\n",
       "3    1986-03-18\n",
       "4    1986-03-19\n",
       "5    1986-03-20\n",
       "6    1986-03-21\n",
       "7    1986-03-24\n",
       "8    1986-03-25\n",
       "9    1986-03-26\n",
       "Name: Date, dtype: object"
      ]
     },
     "execution_count": 12,
     "metadata": {},
     "output_type": "execute_result"
    }
   ],
   "source": [
    "micro[\"Date\"].head(10) ### jueves"
   ]
  },
  {
   "cell_type": "code",
   "execution_count": null,
   "id": "f0e122a5",
   "metadata": {},
   "outputs": [],
   "source": []
  },
  {
   "cell_type": "code",
   "execution_count": null,
   "id": "cd31e415",
   "metadata": {},
   "outputs": [],
   "source": []
  },
  {
   "cell_type": "code",
   "execution_count": null,
   "id": "211458ca",
   "metadata": {},
   "outputs": [],
   "source": []
  }
 ],
 "metadata": {
  "kernelspec": {
   "display_name": "Python 3 (ipykernel)",
   "language": "python",
   "name": "python3"
  },
  "language_info": {
   "codemirror_mode": {
    "name": "ipython",
    "version": 3
   },
   "file_extension": ".py",
   "mimetype": "text/x-python",
   "name": "python",
   "nbconvert_exporter": "python",
   "pygments_lexer": "ipython3",
   "version": "3.8.11"
  }
 },
 "nbformat": 4,
 "nbformat_minor": 5
}
