{
 "cells": [
  {
   "cell_type": "code",
   "execution_count": 3,
   "metadata": {
    "_cell_guid": "b1076dfc-b9ad-4769-8c92-a6c4dae69d19",
    "_uuid": "8f2839f25d086af736a60e9eeb907d3b93b6e0e5"
   },
   "outputs": [],
   "source": [
    "# This Python 3 environment comes with many helpful analytics libraries installed\n",
    "# It is defined by the kaggle/python Docker image: https://github.com/kaggle/docker-python\n",
    "# For example, here's several helpful packages to load\n",
    "\n",
    "import numpy as np # linear algebra\n",
    "import pandas as pd # data processing, CSV file I/O (e.g. pd.read_csv)\n",
    "\n",
    "# Input data files are available in the read-only \"../input/\" directory\n",
    "# For example, running this (by clicking run or pressing Shift+Enter) will list all files under the input directory\n",
    "\n",
    "import os\n",
    "for dirname, _, filenames in os.walk('/kaggle/input'):\n",
    "    for filename in filenames:\n",
    "        print(os.path.join(dirname, filename))\n",
    "\n",
    "# You can write up to 20GB to the current directory (/kaggle/working/) that gets preserved as output when you create a version using \"Save & Run All\" \n",
    "# You can also write temporary files to /kaggle/temp/, but they won't be saved outside of the current session"
   ]
  },
  {
   "cell_type": "code",
   "execution_count": 8,
   "metadata": {
    "execution": {
     "iopub.execute_input": "2021-11-12T19:11:26.494482Z",
     "iopub.status.busy": "2021-11-12T19:11:26.493792Z",
     "iopub.status.idle": "2021-11-12T19:11:26.719893Z",
     "shell.execute_reply": "2021-11-12T19:11:26.718973Z",
     "shell.execute_reply.started": "2021-11-12T19:11:26.494439Z"
    }
   },
   "outputs": [
    {
     "name": "stdout",
     "output_type": "stream",
     "text": [
      "i= 0 val= (81 * 85 +89)%100-> 94\n",
      "i= 1 val= (81 * 85 +89)%100-> 3\n",
      "i= 2 val= (81 * 85 +89)%100-> 32\n",
      "i= 3 val= (81 * 85 +89)%100-> 81\n",
      "i= 4 val= (81 * 85 +89)%100-> 50\n",
      "i= 5 val= (81 * 85 +89)%100-> 39\n",
      "i= 6 val= (81 * 85 +89)%100-> 48\n",
      "i= 7 val= (81 * 85 +89)%100-> 77\n",
      "i= 8 val= (81 * 85 +89)%100-> 26\n",
      "i= 9 val= (81 * 85 +89)%100-> 95\n",
      "i= 10 val= (81 * 85 +89)%100-> 84\n",
      "i= 11 val= (81 * 85 +89)%100-> 93\n",
      "i= 12 val= (81 * 85 +89)%100-> 22\n",
      "i= 13 val= (81 * 85 +89)%100-> 71\n",
      "i= 14 val= (81 * 85 +89)%100-> 40\n",
      "i= 15 val= (81 * 85 +89)%100-> 29\n",
      "i= 16 val= (81 * 85 +89)%100-> 38\n",
      "i= 17 val= (81 * 85 +89)%100-> 67\n",
      "i= 18 val= (81 * 85 +89)%100-> 16\n",
      "i= 19 val= (81 * 85 +89)%100-> 85\n"
     ]
    },
    {
     "data": {
      "image/png": "[encoded data removed]",
      "text/plain": [
       "<Figure size 432x288 with 1 Axes>"
      ]
     },
     "metadata": {
      "needs_background": "light"
     },
     "output_type": "display_data"
    }
   ],
   "source": [
    "import matplotlib.pyplot as plt\n",
    "import pandas as pd\n",
    "semilla = 5\n",
    "x0=int(semilla)\n",
    "for i in range(20):\n",
    "    xi = (81 * x0 + 89) % 100\n",
    "    print(\"i=\", i , \"val= (81 *\" ,xn,\"+89)%100->\",xi )\n",
    "    x0 = xi\n",
    "    plt.plot(i,xi,\"*\")\n",
    "plt.show()"
   ]
  },
  {
   "cell_type": "code",
   "execution_count": null,
   "metadata": {},
   "outputs": [],
   "source": []
  }
 ],
 "metadata": {
  "kernelspec": {
   "display_name": "Python 3 (ipykernel)",
   "language": "python",
   "name": "python3"
  },
  "language_info": {
   "codemirror_mode": {
    "name": "ipython",
    "version": 3
   },
   "file_extension": ".py",
   "mimetype": "text/x-python",
   "name": "python",
   "nbconvert_exporter": "python",
   "pygments_lexer": "ipython3",
   "version": "3.8.11"
  }
 },
 "nbformat": 4,
 "nbformat_minor": 4
}
