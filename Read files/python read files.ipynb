{
 "cells": [
  {
   "cell_type": "code",
   "execution_count": 17,
   "id": "ac954256",
   "metadata": {},
   "outputs": [
    {
     "name": "stdout",
     "output_type": "stream",
     "text": [
      "\u001b[34mCharlie es una monada de niña.\n",
      "\u001b[31mRubia, de ojos azules, educada y cariñosa.\n",
      "\u001b[34mPero también es piroquinética. \n",
      "\u001b[31mSí, puede encender fuego a distancia, desde inofensivas fogatas hasta hogueras inmensas, capaces de arrasar grandes extensiones.\n",
      "\u001b[34mY si posee estas capacidades a los siete años, \n",
      "\u001b[31mhorroriza pensar qué podrá hacer cuando sea adulta.\n",
      "\u001b[34m Aunque, la verdad, tiene muy pocas probabilidades de llegar a la edad adulta. \n",
      "\u001b[31mPorque “La Tienda”,\n",
      "\u001b[34m el ultrasecreto servicio estadounidense encargado de efectuar investigaciones científicas y paracientíficas\n",
      "\u001b[31m para aplicarlas a las guerras frías, tibias o calientes, \n",
      "\u001b[34mha decidido estudiarla y eliminarla, \n",
      "\u001b[31mtal como estudió y eliminó a sus padres después de haberlos utilizado como cobayas humanos.\n",
      "\u001b[34m Y el horror se vive, se masca. \n",
      "\u001b[31mPorque el verdadero horror procede de las paradojas de la situación, \n",
      "\u001b[34mde una hermosa niña dulce y desamparada, \n",
      "\u001b[31mque necesita protección pero que posee una inmensa capacidad destructora,\n",
      "\u001b[34m y de una organización gubernamental, \n",
      "\u001b[31mdedicada a la investigación científica, \n",
      "\u001b[34mque emplea sus mejores hombres y sus mayores recursos en la tarea de localizar y asesinar a una niñita de siete años\n",
      "\u001b[31mde cuyas facultades paranormales es responsable\n",
      "\u001b[34my de cuya actuación futura no quiere responsabilizarse.\n",
      "\n",
      "total de vocales= 458\n",
      "total de consonantes= 585\n"
     ]
    }
   ],
   "source": [
    "from sys import exit\n",
    "from colorama import Fore\n",
    "from io import open \n",
    "import copy\n",
    "import sys\n",
    "dic= { \n",
    "    \"a\": 1,\n",
    "    \"e\": 1,\n",
    "    \"i\": 1,\n",
    "    \"o\": 1,\n",
    "    \"u\": 1,\n",
    "    \"A\": 1,\n",
    "    \"E\": 1,\n",
    "    \"I\": 1,\n",
    "    \"O\": 1,\n",
    "    \"U\": 1,\n",
    "    \" \": 2,\n",
    "    \",\": 2,\n",
    "    \".\": 2,\n",
    "    \";\": 2,\n",
    "}\n",
    "class Archivo:\n",
    "    def __init__(self,nomo):\n",
    "        self.vocales=0\n",
    "        self.especiales=0\n",
    "        self.consonantes=0\n",
    "        self.nombre = nomo\n",
    "        try:\n",
    "            self.f = open(fr\"{nomo}\",\"r\",encoding=\"utf8\")\n",
    "        except:\n",
    "            print(\"No se puede abrir el archivo: {nombre}\")\n",
    "            exit()      \n",
    "    def muestra(self):\n",
    "        par = True\n",
    "        for linea in self.f:\n",
    "            if par:\n",
    "                print(Fore.BLUE, end=\"\")\n",
    "                par = False\n",
    "            else:\n",
    "                print(Fore.RED, end=\"\")\n",
    "                par = True\n",
    "            print(linea, end=\"\")\n",
    "    def NumVocales(self):\n",
    "        self.f = open(fr\"{self.nombre}\",\"r\",encoding=\"utf8\")\n",
    "        self.vocales=0\n",
    "        while 1:\n",
    "            letra=self.f.read(1)\n",
    "            #print(\"---\",letra,\"-\",\"\\n\")\n",
    "            if not letra:\n",
    "                break\n",
    "            \n",
    "            if letra in dic:\n",
    "                if dic[ letra ]==1:\n",
    "                    self.vocales+=1\n",
    "                else:\n",
    "                    self.especiales+=1\n",
    "            else:\n",
    "                self.consonantes+=1\n",
    "            ##print(letra)\n",
    "        \n",
    "Lector=Archivo('C:\\\\Users\\\\Familia Romero Ramos\\\\notebooks jupyter\\\\charlie.txt')\n",
    "Lector.muestra()\n",
    "Lector.NumVocales()\n",
    "print(\"\\n\")\n",
    "print(\"total de vocales=\",Lector.vocales)\n",
    "print(\"total de consonantes=\",Lector.consonantes)"
   ]
  },
  {
   "cell_type": "code",
   "execution_count": 7,
   "id": "16d534cc",
   "metadata": {},
   "outputs": [
    {
     "data": {
      "text/plain": [
       "'C:\\\\Users\\\\Familia Romero Ramos\\\\notebooks jupyter'"
      ]
     },
     "execution_count": 7,
     "metadata": {},
     "output_type": "execute_result"
    }
   ],
   "source": [
    "pwd"
   ]
  },
  {
   "cell_type": "code",
   "execution_count": null,
   "id": "4afc90b4",
   "metadata": {},
   "outputs": [],
   "source": []
  }
 ],
 "metadata": {
  "kernelspec": {
   "display_name": "Python 3",
   "language": "python",
   "name": "python3"
  },
  "language_info": {
   "codemirror_mode": {
    "name": "ipython",
    "version": 3
   },
   "file_extension": ".py",
   "mimetype": "text/x-python",
   "name": "python",
   "nbconvert_exporter": "python",
   "pygments_lexer": "ipython3",
   "version": "3.8.8"
  }
 },
 "nbformat": 4,
 "nbformat_minor": 5
}
