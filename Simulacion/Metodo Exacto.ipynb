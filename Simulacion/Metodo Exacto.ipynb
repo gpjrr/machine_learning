{
 "cells": [
  {
   "cell_type": "code",
   "execution_count": 13,
   "id": "44600f19",
   "metadata": {},
   "outputs": [],
   "source": [
    "import time\n",
    "import math\n",
    "\n",
    "space=1009  ### es un numero primo \n",
    "n=3000000"
   ]
  },
  {
   "cell_type": "code",
   "execution_count": 14,
   "id": "92f134cc",
   "metadata": {},
   "outputs": [
    {
     "name": "stdout",
     "output_type": "stream",
     "text": [
      "perimetro= 8.377574824520109e-06 z=radio= 1.9999993333333335 ancho= 3.3333333333333335e-07\n",
      "Volumen= 8.377576220782789\n"
     ]
    }
   ],
   "source": [
    "lado=2/n\n",
    "cubito=lado*lado*lado\n",
    "volumen=0\n",
    "con=0\n",
    "volumen=0\n",
    "ancho=lado/2\n",
    "for i in range (0,n):\n",
    "    Alt=i*lado\n",
    "    perimetro=math.pi*2*Alt\n",
    "    perimetro*=abs(Alt)\n",
    "    perimetro*=ancho\n",
    "    volumen+=perimetro\n",
    "print(\"perimetro=\",perimetro,\"z=radio=\",Alt,\"ancho=\",ancho)\n",
    "print(\"Volumen=\",volumen)"
   ]
  },
  {
   "cell_type": "code",
   "execution_count": null,
   "id": "aa0de5b8",
   "metadata": {},
   "outputs": [],
   "source": []
  }
 ],
 "metadata": {
  "kernelspec": {
   "display_name": "Python 3 (ipykernel)",
   "language": "python",
   "name": "python3"
  },
  "language_info": {
   "codemirror_mode": {
    "name": "ipython",
    "version": 3
   },
   "file_extension": ".py",
   "mimetype": "text/x-python",
   "name": "python",
   "nbconvert_exporter": "python",
   "pygments_lexer": "ipython3",
   "version": "3.8.11"
  }
 },
 "nbformat": 4,
 "nbformat_minor": 5
}
