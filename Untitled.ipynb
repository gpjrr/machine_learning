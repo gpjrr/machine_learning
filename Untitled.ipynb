{
 "cells": [
  {
   "cell_type": "code",
   "execution_count": 7,
   "id": "ea5c2f01",
   "metadata": {},
   "outputs": [
    {
     "name": "stderr",
     "output_type": "stream",
     "text": [
      "also installing the dependency 'remotes'\n",
      "\n"
     ]
    },
    {
     "name": "stdout",
     "output_type": "stream",
     "text": [
      "\n",
      "  There is a binary version available but the source version is later:\n",
      "        binary source needs_compilation\n",
      "remotes  2.3.0  2.4.1             FALSE\n",
      "\n",
      "package 'pacman' successfully unpacked and MD5 sums checked\n",
      "\n",
      "The downloaded binary packages are in\n",
      "\tC:\\Users\\Familia Romero Ramos\\AppData\\Local\\Temp\\RtmpyScYzL\\downloaded_packages\n"
     ]
    },
    {
     "name": "stderr",
     "output_type": "stream",
     "text": [
      "installing the source package 'remotes'\n",
      "\n",
      "also installing the dependency 'NLP'\n",
      "\n",
      "Warning message:\n",
      "\"unable to access index for repository http://www.stats.ox.ac.uk/pub/RWin/bin/windows/contrib/3.6:\n",
      "  cannot open URL 'http://www.stats.ox.ac.uk/pub/RWin/bin/windows/contrib/3.6/PACKAGES'\""
     ]
    },
    {
     "name": "stdout",
     "output_type": "stream",
     "text": [
      "package 'NLP' successfully unpacked and MD5 sums checked\n",
      "package 'tm' successfully unpacked and MD5 sums checked\n",
      "\n",
      "The downloaded binary packages are in\n",
      "\tC:\\Users\\Familia Romero Ramos\\AppData\\Local\\Temp\\RtmpyScYzL\\downloaded_packages\n"
     ]
    },
    {
     "name": "stderr",
     "output_type": "stream",
     "text": [
      "\n",
      "tm installed\n",
      "Warning message:\n",
      "\"package 'tm' was built under R version 3.6.3\"Warning message:\n",
      "\"package 'NLP' was built under R version 3.6.3\""
     ]
    }
   ],
   "source": [
    "install.packages(\"pacman\")\n",
    "pacman::p_load(tm)"
   ]
  },
  {
   "cell_type": "code",
   "execution_count": 10,
   "id": "e8621ec7",
   "metadata": {},
   "outputs": [
    {
     "name": "stderr",
     "output_type": "stream",
     "text": [
      "Warning message:\n",
      "\"unable to access index for repository http://www.stats.ox.ac.uk/pub/RWin/bin/windows/contrib/3.6:\n",
      "  cannot open URL 'http://www.stats.ox.ac.uk/pub/RWin/bin/windows/contrib/3.6/PACKAGES'\""
     ]
    },
    {
     "name": "stdout",
     "output_type": "stream",
     "text": [
      "package 'slam' successfully unpacked and MD5 sums checked\n"
     ]
    },
    {
     "name": "stderr",
     "output_type": "stream",
     "text": [
      "Warning message:\n",
      "\"cannot remove prior installation of package 'slam'\"Warning message in file.copy(savedcopy, lib, recursive = TRUE):\n",
      "\"problem copying D:\\programs\\Anaconda3\\envs\\mineria Web\\Lib\\R\\library\\00LOCK\\slam\\libs\\x64\\slam.dll to D:\\programs\\Anaconda3\\envs\\mineria Web\\Lib\\R\\library\\slam\\libs\\x64\\slam.dll: Permission denied\"Warning message:\n",
      "\"restored 'slam'\""
     ]
    },
    {
     "name": "stdout",
     "output_type": "stream",
     "text": [
      "\n",
      "The downloaded binary packages are in\n",
      "\tC:\\Users\\Familia Romero Ramos\\AppData\\Local\\Temp\\RtmpyScYzL\\downloaded_packages\n"
     ]
    }
   ],
   "source": [
    "install.packages(\"slam\")"
   ]
  },
  {
   "cell_type": "code",
   "execution_count": 8,
   "id": "1b0b1284",
   "metadata": {},
   "outputs": [
    {
     "data": {
      "text/plain": [
       "$encoding\n",
       "[1] \"\"\n",
       "\n",
       "$length\n",
       "[1] 2\n",
       "\n",
       "$position\n",
       "[1] 0\n",
       "\n",
       "$reader\n",
       "function (elem, language, id) \n",
       "{\n",
       "    PlainTextDocument(elem$content[, \"text\"], id = elem$content[, \n",
       "        \"doc_id\"], language = language)\n",
       "}\n",
       "<bytecode: 0x0000000004ea9ba0>\n",
       "<environment: namespace:tm>\n",
       "\n",
       "$content\n",
       "  doc_id              text dmeta1 dmeta2\n",
       "1  doc_1   This is a text.      1      a\n",
       "2  doc_2 This another one.      2      b\n",
       "\n",
       "attr(,\"class\")\n",
       "[1] \"DataframeSource\" \"SimpleSource\"    \"Source\"         "
      ]
     },
     "metadata": {},
     "output_type": "display_data"
    },
    {
     "name": "stdout",
     "output_type": "stream",
     "text": [
      "<<SimpleCorpus>>\n",
      "Metadata:  corpus specific: 1, document level (indexed): 2\n",
      "Content:  documents: 2\n",
      "\n",
      "            doc_1             doc_2 \n",
      "  This is a text. This another one. \n"
     ]
    },
    {
     "data": {
      "text/html": [
       "<table>\n",
       "<thead><tr><th scope=col>dmeta1</th><th scope=col>dmeta2</th></tr></thead>\n",
       "<tbody>\n",
       "\t<tr><td>1</td><td>a</td></tr>\n",
       "\t<tr><td>2</td><td>b</td></tr>\n",
       "</tbody>\n",
       "</table>\n"
      ],
      "text/latex": [
       "\\begin{tabular}{r|ll}\n",
       " dmeta1 & dmeta2\\\\\n",
       "\\hline\n",
       "\t 1 & a\\\\\n",
       "\t 2 & b\\\\\n",
       "\\end{tabular}\n"
      ],
      "text/markdown": [
       "\n",
       "| dmeta1 | dmeta2 |\n",
       "|---|---|\n",
       "| 1 | a |\n",
       "| 2 | b |\n",
       "\n"
      ],
      "text/plain": [
       "  dmeta1 dmeta2\n",
       "1 1      a     \n",
       "2 2      b     "
      ]
     },
     "metadata": {},
     "output_type": "display_data"
    }
   ],
   "source": [
    "docs <- data.frame(doc_id = c(\"doc_1\", \"doc_2\"),\n",
    "                   text = c(\"This is a text.\", \"This another one.\"),\n",
    "                   dmeta1 = 1:2, dmeta2 = letters[1:2],\n",
    "                   stringsAsFactors = FALSE)\n",
    "(ds <- DataframeSource(docs))\n",
    "x <- Corpus(ds)\n",
    "inspect(x)\n",
    "meta(x)"
   ]
  },
  {
   "cell_type": "code",
   "execution_count": null,
   "id": "4fac35f6",
   "metadata": {},
   "outputs": [],
   "source": []
  }
 ],
 "metadata": {
  "kernelspec": {
   "display_name": "R",
   "language": "R",
   "name": "ir"
  },
  "language_info": {
   "codemirror_mode": "r",
   "file_extension": ".r",
   "mimetype": "text/x-r-source",
   "name": "R",
   "pygments_lexer": "r",
   "version": "3.6.1"
  }
 },
 "nbformat": 4,
 "nbformat_minor": 5
}
